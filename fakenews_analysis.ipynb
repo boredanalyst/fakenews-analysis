{
  "nbformat": 4,
  "nbformat_minor": 0,
  "metadata": {
    "colab": {
      "provenance": []
    },
    "kernelspec": {
      "name": "python3",
      "display_name": "Python 3"
    },
    "language_info": {
      "name": "python"
    }
  },
  "cells": [
    {
      "cell_type": "markdown",
      "source": [
        "# DESCRIPTION\n",
        "\n",
        "This is an exploratory analysis of some fake news article collated by Buzzfeed and the amount of Facebook Engagement they garnered. \n",
        "\n",
        "The raw data was extracted from BuzzFeed's github repositories: https://github.com/BuzzFeedNews/2018-12-fake-news-top-50/tree/master\n",
        "Please check out their github profile for better context of the data and the data extraction method."
      ],
      "metadata": {
        "id": "8nY9crh-6Od_"
      }
    },
    {
      "cell_type": "code",
      "source": [
        "## importing of modules\n",
        "\n",
        "import pandas as pd\n",
        "import numpy as np\n",
        "import matplotlib as plotly"
      ],
      "metadata": {
        "id": "xoxwzgv229gO"
      },
      "execution_count": 196,
      "outputs": []
    },
    {
      "cell_type": "code",
      "source": [
        "from google.colab import drive\n",
        "drive.mount('/content/drive')"
      ],
      "metadata": {
        "id": "iPWXlSy13AHz",
        "colab": {
          "base_uri": "https://localhost:8080/"
        },
        "outputId": "45ebc85e-5cfd-42aa-ee3d-f8a8de16c0e8"
      },
      "execution_count": 197,
      "outputs": [
        {
          "output_type": "stream",
          "name": "stdout",
          "text": [
            "Drive already mounted at /content/drive; to attempt to forcibly remount, call drive.mount(\"/content/drive\", force_remount=True).\n"
          ]
        }
      ]
    },
    {
      "cell_type": "markdown",
      "source": [
        "### Data Cleaning"
      ],
      "metadata": {
        "id": "ZB7TUD7P4glr"
      }
    },
    {
      "cell_type": "code",
      "source": [
        "## Loading csv into dataframe\n",
        "\n",
        "df = pd.read_csv(\"/content/drive/MyDrive/Colab Notebooks/Fake News/fakenews_article.csv\")\n",
        "\n",
        "df = pd.DataFrame(df)"
      ],
      "metadata": {
        "id": "zGv3Eg6_4dRc"
      },
      "execution_count": 198,
      "outputs": []
    },
    {
      "cell_type": "code",
      "source": [
        "## Identifying null values\n",
        "\n",
        "df.info()"
      ],
      "metadata": {
        "colab": {
          "base_uri": "https://localhost:8080/"
        },
        "id": "_LzGbaehAxVA",
        "outputId": "96a63288-ba2b-4cd0-f2cf-97eab9fe0362"
      },
      "execution_count": 199,
      "outputs": [
        {
          "output_type": "stream",
          "name": "stdout",
          "text": [
            "<class 'pandas.core.frame.DataFrame'>\n",
            "RangeIndex: 13961 entries, 0 to 13960\n",
            "Data columns (total 6 columns):\n",
            " #   Column          Non-Null Count  Dtype \n",
            "---  ------          --------------  ----- \n",
            " 0   title           13960 non-null  object\n",
            " 1   url             13961 non-null  object\n",
            " 2   site_name       13961 non-null  object\n",
            " 3   fb_engagement   13961 non-null  object\n",
            " 4   published_date  13961 non-null  object\n",
            " 5   category        11854 non-null  object\n",
            "dtypes: object(6)\n",
            "memory usage: 654.5+ KB\n"
          ]
        }
      ]
    },
    {
      "cell_type": "code",
      "source": [
        "## basic information about the dataframe\n",
        "\n",
        "df.describe()"
      ],
      "metadata": {
        "colab": {
          "base_uri": "https://localhost:8080/",
          "height": 236
        },
        "id": "p58s_L8U8cta",
        "outputId": "a9588abc-6bcb-410b-b2d6-d04065e509c2"
      },
      "execution_count": 200,
      "outputs": [
        {
          "output_type": "execute_result",
          "data": {
            "text/plain": [
              "              title                                                url  \\\n",
              "count         13960                                              13961   \n",
              "unique        12372                                              12971   \n",
              "top     Neon Nettle  https://newspunch.com/hundreds-children-rescue...   \n",
              "freq              4                                                  2   \n",
              "\n",
              "               site_name fb_engagement published_date            category  \n",
              "count              13961         13961          13961               11854  \n",
              "unique                74          2377            364                 165  \n",
              "top     yournewswire.com          0.00      7/20/2018  Sean Adl-tabatabai  \n",
              "freq                3555          3087            537                2835  "
            ],
            "text/html": [
              "\n",
              "  <div id=\"df-bafa1408-d1b4-4e24-a978-752abf44c997\">\n",
              "    <div class=\"colab-df-container\">\n",
              "      <div>\n",
              "<style scoped>\n",
              "    .dataframe tbody tr th:only-of-type {\n",
              "        vertical-align: middle;\n",
              "    }\n",
              "\n",
              "    .dataframe tbody tr th {\n",
              "        vertical-align: top;\n",
              "    }\n",
              "\n",
              "    .dataframe thead th {\n",
              "        text-align: right;\n",
              "    }\n",
              "</style>\n",
              "<table border=\"1\" class=\"dataframe\">\n",
              "  <thead>\n",
              "    <tr style=\"text-align: right;\">\n",
              "      <th></th>\n",
              "      <th>title</th>\n",
              "      <th>url</th>\n",
              "      <th>site_name</th>\n",
              "      <th>fb_engagement</th>\n",
              "      <th>published_date</th>\n",
              "      <th>category</th>\n",
              "    </tr>\n",
              "  </thead>\n",
              "  <tbody>\n",
              "    <tr>\n",
              "      <th>count</th>\n",
              "      <td>13960</td>\n",
              "      <td>13961</td>\n",
              "      <td>13961</td>\n",
              "      <td>13961</td>\n",
              "      <td>13961</td>\n",
              "      <td>11854</td>\n",
              "    </tr>\n",
              "    <tr>\n",
              "      <th>unique</th>\n",
              "      <td>12372</td>\n",
              "      <td>12971</td>\n",
              "      <td>74</td>\n",
              "      <td>2377</td>\n",
              "      <td>364</td>\n",
              "      <td>165</td>\n",
              "    </tr>\n",
              "    <tr>\n",
              "      <th>top</th>\n",
              "      <td>Neon Nettle</td>\n",
              "      <td>https://newspunch.com/hundreds-children-rescue...</td>\n",
              "      <td>yournewswire.com</td>\n",
              "      <td>0.00</td>\n",
              "      <td>7/20/2018</td>\n",
              "      <td>Sean Adl-tabatabai</td>\n",
              "    </tr>\n",
              "    <tr>\n",
              "      <th>freq</th>\n",
              "      <td>4</td>\n",
              "      <td>2</td>\n",
              "      <td>3555</td>\n",
              "      <td>3087</td>\n",
              "      <td>537</td>\n",
              "      <td>2835</td>\n",
              "    </tr>\n",
              "  </tbody>\n",
              "</table>\n",
              "</div>\n",
              "      <button class=\"colab-df-convert\" onclick=\"convertToInteractive('df-bafa1408-d1b4-4e24-a978-752abf44c997')\"\n",
              "              title=\"Convert this dataframe to an interactive table.\"\n",
              "              style=\"display:none;\">\n",
              "        \n",
              "  <svg xmlns=\"http://www.w3.org/2000/svg\" height=\"24px\"viewBox=\"0 0 24 24\"\n",
              "       width=\"24px\">\n",
              "    <path d=\"M0 0h24v24H0V0z\" fill=\"none\"/>\n",
              "    <path d=\"M18.56 5.44l.94 2.06.94-2.06 2.06-.94-2.06-.94-.94-2.06-.94 2.06-2.06.94zm-11 1L8.5 8.5l.94-2.06 2.06-.94-2.06-.94L8.5 2.5l-.94 2.06-2.06.94zm10 10l.94 2.06.94-2.06 2.06-.94-2.06-.94-.94-2.06-.94 2.06-2.06.94z\"/><path d=\"M17.41 7.96l-1.37-1.37c-.4-.4-.92-.59-1.43-.59-.52 0-1.04.2-1.43.59L10.3 9.45l-7.72 7.72c-.78.78-.78 2.05 0 2.83L4 21.41c.39.39.9.59 1.41.59.51 0 1.02-.2 1.41-.59l7.78-7.78 2.81-2.81c.8-.78.8-2.07 0-2.86zM5.41 20L4 18.59l7.72-7.72 1.47 1.35L5.41 20z\"/>\n",
              "  </svg>\n",
              "      </button>\n",
              "      \n",
              "  <style>\n",
              "    .colab-df-container {\n",
              "      display:flex;\n",
              "      flex-wrap:wrap;\n",
              "      gap: 12px;\n",
              "    }\n",
              "\n",
              "    .colab-df-convert {\n",
              "      background-color: #E8F0FE;\n",
              "      border: none;\n",
              "      border-radius: 50%;\n",
              "      cursor: pointer;\n",
              "      display: none;\n",
              "      fill: #1967D2;\n",
              "      height: 32px;\n",
              "      padding: 0 0 0 0;\n",
              "      width: 32px;\n",
              "    }\n",
              "\n",
              "    .colab-df-convert:hover {\n",
              "      background-color: #E2EBFA;\n",
              "      box-shadow: 0px 1px 2px rgba(60, 64, 67, 0.3), 0px 1px 3px 1px rgba(60, 64, 67, 0.15);\n",
              "      fill: #174EA6;\n",
              "    }\n",
              "\n",
              "    [theme=dark] .colab-df-convert {\n",
              "      background-color: #3B4455;\n",
              "      fill: #D2E3FC;\n",
              "    }\n",
              "\n",
              "    [theme=dark] .colab-df-convert:hover {\n",
              "      background-color: #434B5C;\n",
              "      box-shadow: 0px 1px 3px 1px rgba(0, 0, 0, 0.15);\n",
              "      filter: drop-shadow(0px 1px 2px rgba(0, 0, 0, 0.3));\n",
              "      fill: #FFFFFF;\n",
              "    }\n",
              "  </style>\n",
              "\n",
              "      <script>\n",
              "        const buttonEl =\n",
              "          document.querySelector('#df-bafa1408-d1b4-4e24-a978-752abf44c997 button.colab-df-convert');\n",
              "        buttonEl.style.display =\n",
              "          google.colab.kernel.accessAllowed ? 'block' : 'none';\n",
              "\n",
              "        async function convertToInteractive(key) {\n",
              "          const element = document.querySelector('#df-bafa1408-d1b4-4e24-a978-752abf44c997');\n",
              "          const dataTable =\n",
              "            await google.colab.kernel.invokeFunction('convertToInteractive',\n",
              "                                                     [key], {});\n",
              "          if (!dataTable) return;\n",
              "\n",
              "          const docLinkHtml = 'Like what you see? Visit the ' +\n",
              "            '<a target=\"_blank\" href=https://colab.research.google.com/notebooks/data_table.ipynb>data table notebook</a>'\n",
              "            + ' to learn more about interactive tables.';\n",
              "          element.innerHTML = '';\n",
              "          dataTable['output_type'] = 'display_data';\n",
              "          await google.colab.output.renderOutput(dataTable, element);\n",
              "          const docLink = document.createElement('div');\n",
              "          docLink.innerHTML = docLinkHtml;\n",
              "          element.appendChild(docLink);\n",
              "        }\n",
              "      </script>\n",
              "    </div>\n",
              "  </div>\n",
              "  "
            ]
          },
          "metadata": {},
          "execution_count": 200
        }
      ]
    },
    {
      "cell_type": "code",
      "source": [
        "##Correcting the type for column (fb_engagement)\n",
        "\n",
        "df[\"fb_engagement\"] = df[\"fb_engagement\"].str.replace(\".00\",'')\n",
        "\n",
        "df[\"fb_engagement\"] = df[\"fb_engagement\"].str.replace(\",\",'')\n",
        "\n",
        "df[\"fb_engagement\"] = df[\"fb_engagement\"].replace('',0)\n",
        "\n",
        "df[\"fb_engagement\"] = df[\"fb_engagement\"].astype(int)"
      ],
      "metadata": {
        "colab": {
          "base_uri": "https://localhost:8080/"
        },
        "id": "79ghRWvx8naI",
        "outputId": "062535dd-960e-421f-ce34-5bd64ca72c0b"
      },
      "execution_count": 201,
      "outputs": [
        {
          "output_type": "stream",
          "name": "stderr",
          "text": [
            "<ipython-input-201-d327663cccb4>:3: FutureWarning: The default value of regex will change from True to False in a future version.\n",
            "  df[\"fb_engagement\"] = df[\"fb_engagement\"].str.replace(\".00\",'')\n"
          ]
        }
      ]
    },
    {
      "cell_type": "code",
      "source": [
        "## We'll remove articles with at least 100 engagements. 100 is a safe space to cut-off, otherwise the data will get skewed towards 0 as there are a lot of low-engagement articles.\n",
        "\n",
        "df = df[df[\"fb_engagement\"] > 100]"
      ],
      "metadata": {
        "id": "B70-Uxe6KKuy"
      },
      "execution_count": 202,
      "outputs": []
    },
    {
      "cell_type": "code",
      "source": [
        "## Identifying outliers\n",
        "\n",
        "q1 = df[\"fb_engagement\"].describe()['25%']\n",
        "q3 = df[\"fb_engagement\"].describe()['75%']\n",
        "\n",
        "iqr = (q3 - q1)\n",
        "\n",
        "lf = q1 - (1.5 * iqr)\n",
        "uf= q3 + (1.5 * iqr)\n",
        "\n",
        "print(f'25th Quartile: {q1}')\n",
        "print(f'75th Quartile: {q3}')\n",
        "print(f'Interquartile range: {iqr}')\n",
        "print(f'Lower Fence: {lf}')\n",
        "print(f'Upper Fence: {uf}')\n",
        "\n",
        "print(f'The quartiles are low due to the number of articles analyzed. There are articles that are not necessary in our data analysis as of the moment.')"
      ],
      "metadata": {
        "colab": {
          "base_uri": "https://localhost:8080/"
        },
        "id": "W3UEcbJmBExL",
        "outputId": "7bd8235c-50fa-41f8-c266-089070b2a622"
      },
      "execution_count": 203,
      "outputs": [
        {
          "output_type": "stream",
          "name": "stdout",
          "text": [
            "25th Quartile: 188.75\n",
            "75th Quartile: 1649.0\n",
            "Interquartile range: 1460.25\n",
            "Lower Fence: -2001.625\n",
            "Upper Fence: 3839.375\n",
            "The quartiles are low due to the number of articles analyzed. There are articles that are not necessary in our data analysis as of the moment.\n"
          ]
        }
      ]
    },
    {
      "cell_type": "code",
      "source": [
        "## We'll set aside all the articles within the lower and upper fence to another dataframe\n",
        "\n",
        "main_df = df[(df[\"fb_engagement\"] > lf) & (df[\"fb_engagement\"] < uf)]\n",
        "\n",
        "## for subsequent analyses, we will be using the main_df.\n",
        "\n",
        "display(main_df)"
      ],
      "metadata": {
        "id": "goZwhpcRMeP_"
      },
      "execution_count": null,
      "outputs": []
    },
    {
      "cell_type": "code",
      "source": [
        "main_df.to_csv(\"ActualData\")"
      ],
      "metadata": {
        "id": "b71LcgKoO24D"
      },
      "execution_count": 206,
      "outputs": []
    }
  ]
}